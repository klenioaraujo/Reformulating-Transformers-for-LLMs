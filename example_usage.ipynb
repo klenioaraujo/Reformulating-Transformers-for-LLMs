{
 "cells": [
  {
   "cell_type": "markdown",
   "metadata": {},
   "source": [
    "# Negentropy Transformer with Seal Protocol\n",
    "\n",
    "Example usage of the NegentropyTransformerBlock with integrated seal protocol controls."
   ]
  },
  {
   "cell_type": "code",
   "execution_count": null,
   "metadata": {},
   "outputs": [],
   "source": [
    "import torch\n",
    "import json\n",
    "from negentropy_transformer_block import NegentropyTransformerBlock\n",
    "from audit_log import AuditLog"
   ]
  },
  {
   "cell_type": "code",
   "execution_count": null,
   "metadata": {},
   "outputs": [],
   "source": [
    "# Initialize the transformer block\n",
    "model = NegentropyTransformerBlock(\n",
    "    d_model=512,\n",
    "    nhead=8,\n",
    "    dim_feedforward=2048,\n",
    "    dropout=0.1,\n",
    "    qrh_embed_dim=64,\n",
    "    alpha=1.0,\n",
    "    use_learned_rotation=True,\n",
    "    enable_gate=True\n",
    ")\n",
    "\n",
    "# Initialize audit log\n",
    "audit = AuditLog()"
   ]
  },
  {
   "cell_type": "code",
   "execution_count": null,
   "metadata": {},
   "outputs": [],
   "source": [
    "# Create sample input\n",
    "batch_size = 2\n",
    "seq_len = 10\n",
    "d_model = 512\n",
    "\n",
    "sample_input = torch.randn(batch_size, seq_len, d_model)\n",
    "print(f\"Input shape: {sample_input.shape}\")"
   ]
  },
  {
   "cell_type": "code",
   "execution_count": null,
   "metadata": {},
   "outputs": [],
   "source": [
    "# Forward pass with seal protocol\n",
    "output, seal = model(sample_input)\n",
    "\n",
    "print(f\"Output shape: {output.shape}\")\n",
    "print(f\"Seal generated: {type(seal)}\")"
   ]
  },
  {
   "cell_type": "code",
   "execution_count": null,
   "metadata": {},
   "outputs": [],
   "source": [
    "# Log the seal to audit trail\n",
    "audit.log_entry(seal)\n",
    "\n",
    "# Calculate latency from seal data (if available in seal)\n",
    "latency_ms = 50.0  # This would be calculated during forward pass\n",
    "\n",
    "print(\"🔐 Output Seal:\")\n",
    "print(json.dumps(seal, indent=2, ensure_ascii=False))\n",
    "\n",
    "print(f\"\\n✅ Audit Chain Valid: {audit.validate_chain()}\")\n",
    "print(f\"⏱️  Latency: {latency_ms:.2f}ms\")\n",
    "print(f\"🎯 RG: {seal['RG']} (Target: 0.347)\")\n",
    "print(f\"🌀 Dyad: {seal['active_dyad']}\")\n",
    "print(f\"🛡️  Seal: {seal['continuity_seal']}\")"
   ]
  },
  {
   "cell_type": "code",
   "execution_count": null,
   "metadata": {},
   "outputs": [],
   "source": [
    "# Check for violations in audit log\n",
    "violations = audit.count_violations()\n",
    "print(\"📊 Violation Summary:\")\n",
    "for violation_type, count in violations.items():\n",
    "    print(f\"  {violation_type}: {count}\")"
   ]
  },
  {
   "cell_type": "code",
   "execution_count": null,
   "metadata": {},
   "outputs": [],
   "source": [
    "# Test multiple forward passes to see seal consistency\n",
    "print(\"🔄 Testing multiple forward passes:\")\n",
    "for i in range(3):\n",
    "    output, seal = model(sample_input)\n",
    "    audit.log_entry(seal)\n",
    "    \n",
    "    status = \"✅\" if not seal.get('latency_sigill', False) else \"⚠️\"\n",
    "    print(f\"Pass {i+1}: {status} RG={seal['RG']:.3f}, Seal={seal['continuity_seal']}\")\n",
    "\n",
    "print(f\"\\nFinal audit chain valid: {audit.validate_chain()}\")"
   ]
  }
 ],
 "metadata": {
  "kernelspec": {
   "display_name": "Python 3",
   "language": "python",
   "name": "python3"
  },
  "language_info": {
   "codemirror_mode": {
    "name": "ipython",
    "version": 3
   },
   "file_extension": ".py",
   "mimetype": "text/x-python",
   "name": "python",
   "nbconvert_exporter": "python",
   "pygments_lexer": "ipython3",
   "version": "3.8.5"
  }
 },
 "nbformat": 4,
 "nbformat_minor": 4
}